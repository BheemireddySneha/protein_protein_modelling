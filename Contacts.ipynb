{
 "cells": [
  {
   "cell_type": "code",
   "execution_count": null,
   "metadata": {},
   "outputs": [],
   "source": [
    "import MDAnalysis as mda\n",
    "#from MDAnalysis.tests.datafiles import PSF, DCD\n",
    "from MDAnalysis.analysis import contacts\n",
    "\n",
    "import numpy as np\n",
    "import pandas as pd\n",
    "import matplotlib.pyplot as plt\n",
    "%matplotlib inline\n",
    "\n",
    "def contacts_within_cutoff(u, group_a, group_b, radius=4.5):\n",
    "    timeseries = []\n",
    "    for ts in u.trajectory:\n",
    "        # Calculate distances between group_a and group_b\n",
    "        dist = contacts.distance_array(group_a.positions, group_b.positions)\n",
    "        # Determine which distances <= radius\n",
    "        n_contacts = contacts.contact_matrix(dist, radius).sum()\n",
    "        timeseries.append([ts.frame, n_contacts])\n",
    "    return np.array(timeseries)"
   ]
  },
  {
   "cell_type": "code",
   "execution_count": 23,
   "metadata": {},
   "outputs": [
    {
     "name": "stderr",
     "output_type": "stream",
     "text": [
      "/home/sneha/.local/lib/python3.8/site-packages/pandas/core/computation/expressions.py:20: UserWarning: Pandas requires version '2.7.3' or newer of 'numexpr' (version '2.7.1' currently installed).\n",
      "  from pandas.core.computation.check import NUMEXPR_INSTALLED\n"
     ]
    },
    {
     "ename": "AttributeError",
     "evalue": "'str' object has no attribute 'select_atoms'",
     "output_type": "error",
     "traceback": [
      "\u001b[0;31m---------------------------------------------------------------------------\u001b[0m",
      "\u001b[0;31mAttributeError\u001b[0m                            Traceback (most recent call last)",
      "\u001b[0;32m<ipython-input-23-568ecf586147>\u001b[0m in \u001b[0;36m<module>\u001b[0;34m\u001b[0m\n\u001b[1;32m     22\u001b[0m \u001b[0mref\u001b[0m \u001b[0;34m=\u001b[0m \u001b[0;34m'/home/sneha/work/Final_models/26_12_2022/all/mtr_ab/md_protein.pdb'\u001b[0m\u001b[0;34m\u001b[0m\u001b[0;34m\u001b[0m\u001b[0m\n\u001b[1;32m     23\u001b[0m \u001b[0;34m\u001b[0m\u001b[0m\n\u001b[0;32m---> 24\u001b[0;31m \u001b[0mx\u001b[0m \u001b[0;34m=\u001b[0m \u001b[0mlen\u001b[0m\u001b[0;34m(\u001b[0m\u001b[0mref\u001b[0m\u001b[0;34m.\u001b[0m\u001b[0mselect_atoms\u001b[0m\u001b[0;34m(\u001b[0m\u001b[0;34m\"protein\"\u001b[0m\u001b[0;34m)\u001b[0m\u001b[0;34m)\u001b[0m\u001b[0;34m\u001b[0m\u001b[0;34m\u001b[0m\u001b[0m\n\u001b[0m\u001b[1;32m     25\u001b[0m \u001b[0;34m\u001b[0m\u001b[0m\n\u001b[1;32m     26\u001b[0m \u001b[0;34m\u001b[0m\u001b[0m\n",
      "\u001b[0;31mAttributeError\u001b[0m: 'str' object has no attribute 'select_atoms'"
     ]
    }
   ],
   "source": [
    "import MDAnalysis as mda\n",
    "import numpy as np\n",
    "import matplotlib.pyplot as plt\n",
    "import MDAnalysis.analysis\n",
    "\n",
    "\n",
    "# Load the trajectory and topology files\n",
    "u = mda.Universe('/home/sneha/work/Final_models/26_12_2022/all/mtr_ab/md_protein.pdb',\n",
    "                 '/home/sneha/work/Final_models/26_12_2022/all/mtr_ab/md_protein.dcd')\n",
    "\n",
    "\n",
    "# Select the protein segments A and B\n",
    "selection_A = u.select_atoms('segid A')\n",
    "selection_B = u.select_atoms('segid B')\n",
    "\n",
    "import MDAnalysis\n",
    "from MDAnalysis import Universe\n",
    "#from MDAnalysis.analysis.contacts import calculate_contacts\n",
    "import numpy as np\n",
    "import pandas as pd\n",
    "\n",
    "ref = '/home/sneha/work/Final_models/26_12_2022/all/mtr_ab/md_protein.pdb'\n",
    "\n",
    "x = len(ref.select_atoms(\"protein\"))\n",
    "\n",
    "\n",
    "data = calculate_contacts(ref, u, selection_A, selection_B)\n",
    "df = pd.DataFrame(data, columns=[\"Time (ps)\", \"Q\"])\n",
    "print(df)\n"
   ]
  },
  {
   "cell_type": "code",
   "execution_count": 25,
   "metadata": {},
   "outputs": [
    {
     "ename": "AttributeError",
     "evalue": "module 'MDAnalysis.analysis.contacts' has no attribute 'calculate_contacts'",
     "output_type": "error",
     "traceback": [
      "\u001b[0;31m---------------------------------------------------------------------------\u001b[0m",
      "\u001b[0;31mAttributeError\u001b[0m                            Traceback (most recent call last)",
      "\u001b[0;32m<ipython-input-25-a8d68d06d25d>\u001b[0m in \u001b[0;36m<module>\u001b[0;34m\u001b[0m\n\u001b[1;32m      1\u001b[0m \u001b[0;32mfrom\u001b[0m \u001b[0mMDAnalysis\u001b[0m\u001b[0;34m.\u001b[0m\u001b[0manalysis\u001b[0m\u001b[0;34m.\u001b[0m\u001b[0mcontacts\u001b[0m \u001b[0;32mimport\u001b[0m \u001b[0;34m*\u001b[0m\u001b[0;34m\u001b[0m\u001b[0;34m\u001b[0m\u001b[0m\n\u001b[1;32m      2\u001b[0m \u001b[0;31m# Calculate the contacts between segments A and B\u001b[0m\u001b[0;34m\u001b[0m\u001b[0;34m\u001b[0m\u001b[0;34m\u001b[0m\u001b[0m\n\u001b[0;32m----> 3\u001b[0;31m \u001b[0mdata\u001b[0m \u001b[0;34m=\u001b[0m \u001b[0mmda\u001b[0m\u001b[0;34m.\u001b[0m\u001b[0manalysis\u001b[0m\u001b[0;34m.\u001b[0m\u001b[0mcontacts\u001b[0m\u001b[0;34m.\u001b[0m\u001b[0mcalculate_contacts\u001b[0m\u001b[0;34m(\u001b[0m\u001b[0mu\u001b[0m\u001b[0;34m,\u001b[0m \u001b[0mselection_A\u001b[0m\u001b[0;34m,\u001b[0m \u001b[0mselection_B\u001b[0m\u001b[0;34m)\u001b[0m\u001b[0;34m\u001b[0m\u001b[0;34m\u001b[0m\u001b[0m\n\u001b[0m\u001b[1;32m      4\u001b[0m \u001b[0;34m\u001b[0m\u001b[0m\n\u001b[1;32m      5\u001b[0m \u001b[0;31m# Convert the data to a DataFrame\u001b[0m\u001b[0;34m\u001b[0m\u001b[0;34m\u001b[0m\u001b[0;34m\u001b[0m\u001b[0m\n",
      "\u001b[0;31mAttributeError\u001b[0m: module 'MDAnalysis.analysis.contacts' has no attribute 'calculate_contacts'"
     ]
    }
   ],
   "source": [
    "from MDAnalysis.analysis.contacts import *\n",
    "# Calculate the contacts between segments A and B\n",
    "data = mda.analysis.contacts.calculate_contacts(u, selection_A, selection_B)\n",
    "\n",
    "# Convert the data to a DataFrame\n",
    "df = mda.analysis.contacts.contacts2df(data, columns=[\"Time (ps)\", \"Q\"])\n",
    "print(df)"
   ]
  },
  {
   "cell_type": "code",
   "execution_count": 26,
   "metadata": {},
   "outputs": [
    {
     "ename": "ImportError",
     "evalue": "cannot import name 'calculate_contacts' from 'MDAnalysis.analysis.contacts' (/home/sneha/anaconda3/lib/python3.8/site-packages/MDAnalysis/analysis/contacts.py)",
     "output_type": "error",
     "traceback": [
      "\u001b[0;31m---------------------------------------------------------------------------\u001b[0m",
      "\u001b[0;31mImportError\u001b[0m                               Traceback (most recent call last)",
      "\u001b[0;32m<ipython-input-26-ced47ad23575>\u001b[0m in \u001b[0;36m<module>\u001b[0;34m\u001b[0m\n\u001b[1;32m      1\u001b[0m \u001b[0;32mimport\u001b[0m \u001b[0mMDAnalysis\u001b[0m\u001b[0;34m\u001b[0m\u001b[0;34m\u001b[0m\u001b[0m\n\u001b[1;32m      2\u001b[0m \u001b[0;32mfrom\u001b[0m \u001b[0mMDAnalysis\u001b[0m \u001b[0;32mimport\u001b[0m \u001b[0mUniverse\u001b[0m\u001b[0;34m\u001b[0m\u001b[0;34m\u001b[0m\u001b[0m\n\u001b[0;32m----> 3\u001b[0;31m \u001b[0;32mfrom\u001b[0m \u001b[0mMDAnalysis\u001b[0m\u001b[0;34m.\u001b[0m\u001b[0manalysis\u001b[0m\u001b[0;34m.\u001b[0m\u001b[0mcontacts\u001b[0m \u001b[0;32mimport\u001b[0m \u001b[0mcalculate_contacts\u001b[0m\u001b[0;34m\u001b[0m\u001b[0;34m\u001b[0m\u001b[0m\n\u001b[0m\u001b[1;32m      4\u001b[0m \u001b[0;32mimport\u001b[0m \u001b[0mnumpy\u001b[0m \u001b[0;32mas\u001b[0m \u001b[0mnp\u001b[0m\u001b[0;34m\u001b[0m\u001b[0;34m\u001b[0m\u001b[0m\n\u001b[1;32m      5\u001b[0m \u001b[0;32mimport\u001b[0m \u001b[0mpandas\u001b[0m \u001b[0;32mas\u001b[0m \u001b[0mpd\u001b[0m\u001b[0;34m\u001b[0m\u001b[0;34m\u001b[0m\u001b[0m\n",
      "\u001b[0;31mImportError\u001b[0m: cannot import name 'calculate_contacts' from 'MDAnalysis.analysis.contacts' (/home/sneha/anaconda3/lib/python3.8/site-packages/MDAnalysis/analysis/contacts.py)"
     ]
    }
   ],
   "source": [
    "import MDAnalysis\n",
    "from MDAnalysis import Universe\n",
    "from MDAnalysis.analysis.contacts import calculate_contacts\n",
    "import numpy as np\n",
    "import pandas as pd"
   ]
  },
  {
   "cell_type": "code",
   "execution_count": 27,
   "metadata": {},
   "outputs": [
    {
     "name": "stdout",
     "output_type": "stream",
     "text": [
      "Requirement already satisfied: MDAnalysis in /home/sneha/anaconda3/lib/python3.8/site-packages (2.4.3)\n",
      "Requirement already satisfied: GridDataFormats>=0.4.0 in /home/sneha/anaconda3/lib/python3.8/site-packages (from MDAnalysis) (1.0.1)\n",
      "Requirement already satisfied: scipy>=1.5.0 in /home/sneha/anaconda3/lib/python3.8/site-packages (from MDAnalysis) (1.7.3)\n",
      "Requirement already satisfied: networkx>=2.0 in /home/sneha/anaconda3/lib/python3.8/site-packages (from MDAnalysis) (3.1)\n",
      "Requirement already satisfied: joblib>=0.12 in /home/sneha/anaconda3/lib/python3.8/site-packages (from MDAnalysis) (0.17.0)\n",
      "Requirement already satisfied: matplotlib>=1.5.1 in /home/sneha/anaconda3/lib/python3.8/site-packages (from MDAnalysis) (3.3.2)\n",
      "Requirement already satisfied: threadpoolctl in /home/sneha/anaconda3/lib/python3.8/site-packages (from MDAnalysis) (2.1.0)\n",
      "Requirement already satisfied: packaging in /home/sneha/anaconda3/lib/python3.8/site-packages (from MDAnalysis) (20.4)\n",
      "Requirement already satisfied: biopython>=1.80 in /home/sneha/.local/lib/python3.8/site-packages (from MDAnalysis) (1.81)\n",
      "Requirement already satisfied: gsd>=1.9.3 in /home/sneha/anaconda3/lib/python3.8/site-packages (from MDAnalysis) (2.7.0)\n",
      "Requirement already satisfied: fasteners in /home/sneha/anaconda3/lib/python3.8/site-packages (from MDAnalysis) (0.18)\n",
      "Requirement already satisfied: mmtf-python>=1.0.0 in /home/sneha/anaconda3/lib/python3.8/site-packages (from MDAnalysis) (1.1.2)\n",
      "Requirement already satisfied: numpy>=1.20.0 in /home/sneha/anaconda3/lib/python3.8/site-packages (from MDAnalysis) (1.21.6)\n",
      "Requirement already satisfied: tqdm>=4.43.0 in /home/sneha/anaconda3/lib/python3.8/site-packages (from MDAnalysis) (4.50.2)\n",
      "Requirement already satisfied: mrcfile in /home/sneha/anaconda3/lib/python3.8/site-packages (from GridDataFormats>=0.4.0->MDAnalysis) (1.4.3)\n",
      "Requirement already satisfied: cycler>=0.10 in /home/sneha/anaconda3/lib/python3.8/site-packages (from matplotlib>=1.5.1->MDAnalysis) (0.10.0)\n",
      "Requirement already satisfied: certifi>=2020.06.20 in /home/sneha/anaconda3/lib/python3.8/site-packages (from matplotlib>=1.5.1->MDAnalysis) (2022.12.7)\n",
      "Requirement already satisfied: kiwisolver>=1.0.1 in /home/sneha/anaconda3/lib/python3.8/site-packages (from matplotlib>=1.5.1->MDAnalysis) (1.3.0)\n",
      "Requirement already satisfied: pyparsing!=2.0.4,!=2.1.2,!=2.1.6,>=2.0.3 in /home/sneha/anaconda3/lib/python3.8/site-packages (from matplotlib>=1.5.1->MDAnalysis) (2.4.7)\n",
      "Requirement already satisfied: python-dateutil>=2.1 in /home/sneha/.local/lib/python3.8/site-packages (from matplotlib>=1.5.1->MDAnalysis) (2.8.2)\n",
      "Requirement already satisfied: pillow>=6.2.0 in /home/sneha/anaconda3/lib/python3.8/site-packages (from matplotlib>=1.5.1->MDAnalysis) (8.0.1)\n",
      "Requirement already satisfied: six in /home/sneha/anaconda3/lib/python3.8/site-packages (from packaging->MDAnalysis) (1.15.0)\n",
      "Requirement already satisfied: msgpack>=0.5.6 in /home/sneha/anaconda3/lib/python3.8/site-packages (from mmtf-python>=1.0.0->MDAnalysis) (1.0.0)\n",
      "Note: you may need to restart the kernel to use updated packages.\n"
     ]
    }
   ],
   "source": [
    "pip install MDAnalysis"
   ]
  },
  {
   "cell_type": "code",
   "execution_count": null,
   "metadata": {},
   "outputs": [],
   "source": []
  }
 ],
 "metadata": {
  "kernelspec": {
   "display_name": "Python 3 (ipykernel)",
   "language": "python",
   "name": "python3"
  },
  "language_info": {
   "codemirror_mode": {
    "name": "ipython",
    "version": 3
   },
   "file_extension": ".py",
   "mimetype": "text/x-python",
   "name": "python",
   "nbconvert_exporter": "python",
   "pygments_lexer": "ipython3",
   "version": "3.8.5"
  }
 },
 "nbformat": 4,
 "nbformat_minor": 4
}
